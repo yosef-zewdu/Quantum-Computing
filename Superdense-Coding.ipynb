{
  "cells": [
    {
      "cell_type": "markdown",
      "metadata": {
        "id": "BpSzD6Vw73Ii"
      },
      "source": [
        "# Quantum Computing"
      ]
    },
    {
      "cell_type": "markdown",
      "metadata": {
        "id": "3jHb6qyszSve"
      },
      "source": [
        "## SuperDense Coding protocol"
      ]
    },
    {
      "cell_type": "code",
      "execution_count": 4,
      "metadata": {
        "colab": {
          "base_uri": "https://localhost:8080/",
          "height": 290
        },
        "id": "132YFOo5mQ-K",
        "outputId": "6a5e96f7-629b-4ad5-d823-d9d6a68d351c"
      },
      "outputs": [
        {
          "name": "stdout",
          "output_type": "stream",
          "text": [
            "Message sent: 01\n",
            "Message received: 01\n"
          ]
        },
        {
          "data": {
            "image/png": "[encoded data removed]",
            "text/plain": [
              "<Figure size 621.739x284.278 with 1 Axes>"
            ]
          },
          "execution_count": 4,
          "metadata": {},
          "output_type": "execute_result"
        }
      ],
      "source": [
        "from qiskit import QuantumCircuit\n",
        "from qiskit.visualization import plot_histogram\n",
        "import matplotlib.pyplot as plt\n",
        "from qiskit_aer import Aer\n",
        "\n",
        "\n",
        "# Create the quantum circuit\n",
        "qc = QuantumCircuit(2, 2)  # 2 qubits, 2 classical bits for measurement\n",
        "\n",
        "# Shared Entanglement\n",
        "qc.h(0)         #\n",
        "qc.cx(0, 1)\n",
        "\n",
        "# At this point, qubits are in |Φ+> = (|00> + |11>)/√2\n",
        "\n",
        "# --- Encoding\n",
        "#   00 -> I\n",
        "#   01 -> X\n",
        "#   10 -> Z\n",
        "#   11 -> ZX\n",
        "message = \"01\"\n",
        "\n",
        "if message == \"00\":\n",
        "    pass  # Do nothing\n",
        "elif message == \"01\":\n",
        "    qc.x(0)\n",
        "elif message == \"10\":\n",
        "    qc.z(0)\n",
        "elif message == \"11\":\n",
        "    qc.z(0)\n",
        "    qc.x(0)\n",
        "\n",
        "\n",
        "# Decoding\n",
        "qc.cx(0, 1)\n",
        "qc.h(0)\n",
        "\n",
        "# Measure in computational basis\n",
        "qc.measure([0, 1], [1, 0])\n",
        "\n",
        "#  Simulation\n",
        "simulator = Aer.get_backend('qasm_simulator')\n",
        "job = simulator.run(qc, shots=1024)\n",
        "result = job.result()\n",
        "counts = result.get_counts(qc)\n",
        "\n",
        "# Results\n",
        "print(\"Message sent:\", message)\n",
        "print(\"Message received:\", max(counts, key=counts.get))\n",
        "plot_histogram(counts)\n",
        "plt.show()\n",
        "\n",
        "# Draw circuit\n",
        "qc.draw(\"mpl\")"
      ]
    }
  ],
  "metadata": {
    "colab": {
      "collapsed_sections": [
        "j-VeQqSu7wxA"
      ],
      "provenance": []
    },
    "kernelspec": {
      "display_name": "Python 3",
      "name": "python3"
    },
    "language_info": {
      "name": "python"
    }
  },
  "nbformat": 4,
  "nbformat_minor": 0
}
